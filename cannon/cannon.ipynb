{
 "cells": [
  {
   "cell_type": "markdown",
   "metadata": {},
   "source": [
    "# Cannon Game"
   ]
  },
  {
   "cell_type": "markdown",
   "metadata": {},
   "source": [
    "필요한 library import"
   ]
  },
  {
   "cell_type": "code",
   "execution_count": 13,
   "metadata": {
    "vscode": {
     "languageId": "python"
    }
   },
   "outputs": [],
   "source": [
    "# Cannon\n",
    "import time\n",
    "import random\n",
    "import math\n",
    "from colorsys import hsv_to_rgb\n",
    "import board\n",
    "from digitalio import DigitalInOut, Direction\n",
    "from PIL import Image, ImageDraw, ImageFont\n",
    "from adafruit_rgb_display import st7789\n",
    "import numpy as np"
   ]
  },
  {
   "cell_type": "markdown",
   "metadata": {},
   "source": [
    "Joystick클래스 선언\n",
    "\n",
    "<choi++> LCD boundary check"
   ]
  },
  {
   "cell_type": "code",
   "execution_count": 14,
   "metadata": {
    "vscode": {
     "languageId": "python"
    }
   },
   "outputs": [],
   "source": [
    "class Joystick:\n",
    "    def __init__(self):\n",
    "        self.cs_pin = DigitalInOut(board.CE0)\n",
    "        self.dc_pin = DigitalInOut(board.D25)\n",
    "        self.reset_pin = DigitalInOut(board.D24)\n",
    "        self.BAUDRATE = 24000000\n",
    "\n",
    "        self.spi = board.SPI()\n",
    "        self.disp = st7789.ST7789(\n",
    "                    self.spi,\n",
    "                    height=240,\n",
    "                    y_offset=80,\n",
    "                    rotation=180,\n",
    "                    cs=self.cs_pin,\n",
    "                    dc=self.dc_pin,\n",
    "                    rst=self.reset_pin,\n",
    "                    baudrate=self.BAUDRATE,\n",
    "                    )\n",
    "\n",
    "        # Input pins:\n",
    "        self.button_A = DigitalInOut(board.D5)\n",
    "        self.button_A.direction = Direction.INPUT\n",
    "\n",
    "        self.button_B = DigitalInOut(board.D6)\n",
    "        self.button_B.direction = Direction.INPUT\n",
    "\n",
    "        self.button_L = DigitalInOut(board.D27)\n",
    "        self.button_L.direction = Direction.INPUT\n",
    "\n",
    "        self.button_R = DigitalInOut(board.D23)\n",
    "        self.button_R.direction = Direction.INPUT\n",
    "\n",
    "        self.button_U = DigitalInOut(board.D17)\n",
    "        self.button_U.direction = Direction.INPUT\n",
    "\n",
    "        self.button_D = DigitalInOut(board.D22)\n",
    "        self.button_D.direction = Direction.INPUT\n",
    "\n",
    "        self.button_C = DigitalInOut(board.D4)\n",
    "        self.button_C.direction = Direction.INPUT\n",
    "\n",
    "        # Turn on the Backlight\n",
    "        self.backlight = DigitalInOut(board.D26)\n",
    "        self.backlight.switch_to_output()\n",
    "        self.backlight.value = True\n",
    "\n",
    "        # Create blank image for drawing.\n",
    "        # Make sure to create image with mode 'RGB' for color.\n",
    "        self.width = self.disp.width\n",
    "        self.height = self.disp.height\n",
    "\n",
    "    # choi++ check boundary\n",
    "    ''' return.. True: in LCD boundary\n",
    "                 False: out of LCD '''\n",
    "    def inLCD(self, position):\n",
    "        return (position[0] < self.width and position[1] < self.height) \\\n",
    "                 or (position[2] >= 0 and position[3] >= 0)"
   ]
  },
  {
   "cell_type": "markdown",
   "metadata": {},
   "source": [
    "캐릭터 선언 (대각선 이동 가능)"
   ]
  },
  {
   "cell_type": "markdown",
   "metadata": {},
   "source": [
    "joystick, Image, Draw 객체 생성"
   ]
  },
  {
   "cell_type": "code",
   "execution_count": 15,
   "metadata": {
    "vscode": {
     "languageId": "python"
    }
   },
   "outputs": [],
   "source": [
    "joystick = Joystick()\n",
    "my_image = Image.new(\"RGB\", (joystick.width, joystick.height)) #도화지!\n",
    "my_draw = ImageDraw.Draw(my_image) #그리는 도구!"
   ]
  },
  {
   "cell_type": "markdown",
   "metadata": {},
   "source": [
    "### 캐릭터 수정 및 캐릭터가 쏘는 총알 구현 및 동작 구현"
   ]
  },
  {
   "cell_type": "code",
   "execution_count": 16,
   "metadata": {
    "vscode": {
     "languageId": "python"
    }
   },
   "outputs": [],
   "source": [
    "class Character:\n",
    "    def __init__(self, width, height):\n",
    "        self.appearance = 'circle'\n",
    "        self.state = None\n",
    "        self.position = np.array([width/2 - 20, height/2 - 20, width/2 + 20, height/2 + 20])\n",
    "        # 총알 발사를 위한 캐릭터 중앙 점 추가\n",
    "        self.center = np.array([(self.position[0] + self.position[2]) / 2, (self.position[1] + self.position[3]) / 2])\n",
    "        self.outline = \"#FFFFFF\"\n",
    "\n",
    "    def move(self, command = None):\n",
    "        if command['move'] == False:\n",
    "            self.state = None\n",
    "            self.outline = \"#FFFFFF\" #검정색상 코드!\n",
    "        \n",
    "        else:\n",
    "            self.state = 'move'\n",
    "            self.outline = \"#FF0000\" #빨강색상 코드!\n",
    "\n",
    "            if command['up_pressed']:\n",
    "                self.position[1] -= 5\n",
    "                self.position[3] -= 5\n",
    "\n",
    "            if command['down_pressed']:\n",
    "                self.position[1] += 5\n",
    "                self.position[3] += 5\n",
    "\n",
    "            if command['left_pressed']:\n",
    "                self.position[0] -= 5\n",
    "                self.position[2] -= 5\n",
    "                \n",
    "            if command['right_pressed']:\n",
    "                self.position[0] += 5\n",
    "                self.position[2] += 5\n",
    "                \n",
    "        #center update\n",
    "        self.center = np.array([(self.position[0] + self.position[2]) / 2, (self.position[1] + self.position[3]) / 2]) "
   ]
  },
  {
   "cell_type": "markdown",
   "metadata": {},
   "source": [
    "실행시켜보면 문제점이 무엇인가요?\n",
    "- 가만히 있는 상태에서 발사버튼(A)를 누르면 bullet이 그려진 후, 움직이지 않음\n",
    "- bullet을 담는 bullets 리스트에 bullet이 쌓이기만 할 뿐, 사라지지 않음 -> 메모리가 부족해지고 점점 동작 속도가 느려지는 것도 체감 가능  \n",
    "\n",
    "어떻게 하면 고칠 수 있을지 생각해보고 고쳐보세요😀"
   ]
  },
  {
   "cell_type": "code",
   "execution_count": 17,
   "metadata": {
    "vscode": {
     "languageId": "python"
    }
   },
   "outputs": [],
   "source": [
    "class Cannon:\n",
    "    def __init__(self, pos):\n",
    "        self.appearance = 'circle'\n",
    "        self.state = None\n",
    "        self.c = pos\n",
    "        self.pos = np.array([pos[0] - 10, pos[1] - 10, pos[0] + 10, pos[1] + 10])\n",
    "        self.angle = 45\n",
    "        self.speed = 70\n",
    "        self.outline = \"#FFFFFF\"\n",
    "\n",
    "    def set(self, command = None):\n",
    "        if command == 'up':\n",
    "            self.angle += 0.5\n",
    "        if command == 'down':\n",
    "            self.angle -= 0.5\n",
    "        if command == 'right':\n",
    "            self.speed += 1\n",
    "        if command == 'left':\n",
    "            self.speed -= 1"
   ]
  },
  {
   "cell_type": "markdown",
   "metadata": {},
   "source": [
    "### 적 생성 및 HIT 액션 적용"
   ]
  },
  {
   "cell_type": "markdown",
   "metadata": {},
   "source": [
    "enemy는 우리가 만든 Character와 굉장히 유사합니다.  \n",
    "우선은 움직이지 않는 적을 만들어봅시다."
   ]
  },
  {
   "cell_type": "code",
   "execution_count": 18,
   "metadata": {
    "vscode": {
     "languageId": "python"
    }
   },
   "outputs": [],
   "source": [
    "class Enemy:\n",
    "    def __init__(self, spawn_position):\n",
    "        self.appearance = 'circle'\n",
    "        self.state = 'alive'\n",
    "        self.position = np.array([spawn_position[0] - 10, spawn_position[1] - 10, spawn_position[0] + 10, spawn_position[1] + 10])\n",
    "        self.center = np.array([(self.position[0] + self.position[2]) / 2, (self.position[1] + self.position[3]) / 2])\n",
    "        self.outline = \"#00FF00\""
   ]
  },
  {
   "cell_type": "markdown",
   "metadata": {},
   "source": [
    "포물선 bullet 구현 (s=vt, s=(1/2)gt^2, vx=cos(v0), vy=sin(v0))  \n",
    "초기조건: (x0, y0)=시작점, v0=속도, rad=각도,  dt=interval, g=중력가속도(9.8)  \n",
    "수평속도(vx): v0 * cos(rad), 수직속도(vy): v0 * sin(rad)  \n",
    "bullet의 x 위치= x0 + vx * dt  \n",
    "bullet의 y 위치= y0 + vy * dt - 0.5 * g * dt^2  "
   ]
  },
  {
   "cell_type": "code",
   "execution_count": 19,
   "metadata": {
    "vscode": {
     "languageId": "python"
    }
   },
   "outputs": [],
   "source": [
    "class Bullet:\n",
    "    BR = 3  # radius of bullet\n",
    "    BR2 = BR*2 \n",
    "    G = 9.8 # gravitational constant\n",
    "    def __init__(self, pos, angle, speed):\n",
    "        self.appearance = 'circle'\n",
    "        rad = math.radians(angle)\n",
    "        self.vx = speed * math.cos(rad)\n",
    "        self.vy = speed * math.sin(rad)\n",
    "        self.damage = 10\n",
    "        self.p = np.array([pos[0]-BR, pos[1]-BR, pos[0]+BR, pos[1]+BR])\n",
    "        self.p0 = self.p\n",
    "        self.c = pos\n",
    "        self.c0 = self.c\n",
    "        self.t = 0\n",
    "        self.state = 'move'\n",
    "        self.outline = \"#0000FF\"\n",
    "\n",
    "    def move(self):\n",
    "        dx = int(self.vx*self.t * 0.02)\n",
    "        dy = int((self.vy*self.t - 0.5*G*self.t**2) * 0.02)\n",
    "        self.p0 = self.p                            # save previous position\n",
    "        self.p[0] += dx\n",
    "        self.p[2] += dx\n",
    "        self.p[1] -= dy\n",
    "        self.p[3] -= dy\n",
    "        self.c0 = self.c                            # save previous center\n",
    "        self.c = np.array([(self.p[0] + self.p[2]) / 2, (self.p[1] + self.p[3]) / 2])\n",
    "        self.t += 0.5\n",
    "\n",
    "    def ground(self):\n",
    "        ''' True if bullet is down on the ground '''\n",
    "        return self.p[1] > 240\n",
    "             \n",
    "    def collision_check(self, enemys):\n",
    "        for enemy in enemys:\n",
    "            collision = False                               # choi++\n",
    "            if enemy.state == 'alive':                      # choi++\n",
    "                collision = self.overlap(enemy.position)\n",
    "            if collision:\n",
    "                enemy.state = 'die'\n",
    "                self.state = 'hit'\n",
    "\n",
    "    def overlap(self, other_p):\n",
    "        ''' check if other_p is in the box of ego_p0 ~ ego_p\n",
    "        return : True : if overlap\n",
    "                False : if not overlap '''\n",
    "        if (self.p[2]>other_p[0] and self.p[0]<other_p[2] and self.p[3]>other_p[1] and self.p[1]<other_p[3]):\n",
    "            return True\n",
    "        else:\n",
    "            dx = (self.c[0] - self.c0[0]) / BR2\n",
    "            dy = (self.c[1] - self.c0[1]) / BR2\n",
    "            i = 0\n",
    "            while (self.c0[0]+(dx*i) > self.c[0]):\n",
    "                \n",
    "            return False\n",
    "        '''\n",
    "        if (ego_p0[1] < ego_p[1]):\n",
    "            return ego_p0[0] < other_p[2] and ego_p[2] > other_p[0] \\\n",
    "                and ego_p0[1] < other_p[3] and ego_p[3] > other_p[1]\n",
    "        else:\n",
    "            return ego_p0[0] < other_p[2] and ego_p[2] > other_p[0] \\\n",
    "                and ego_p0[3] > other_p[1] and ego_p[1] > other_p[3]\n",
    "        if (ego_p0[1] < ego_p[1]):\n",
    "            return ego_p0[0] < other_p[2] and ego_p[2] > other_p[0] \\\n",
    "                and ego_p0[1] < other_p[3] and ego_p[3] > other_p[1]\n",
    "        else:\n",
    "            return ego_p0[0] < other_p[2] and ego_p[2] > other_p[0] \\\n",
    "                and ego_p0[3] > other_p[1] and ego_p[1] > other_p[3]\n",
    "        '''"
   ]
  },
  {
   "cell_type": "markdown",
   "metadata": {},
   "source": [
    "<choi++>  \n",
    "살아있는 enemy에 대해서만 collision check 한다.  \n",
    "화면 밖으로 나가는 bullet은 list에서 제거하여 메모리와 CPU를 절약한다.  \n",
    "죽은 enemy는 list에서 제거한다.  \n",
    "정지해 있는 bullet은 제거한다. (bullet 생성시에 state 설정: 'move')"
   ]
  },
  {
   "cell_type": "code",
   "execution_count": 20,
   "metadata": {
    "vscode": {
     "languageId": "python"
    }
   },
   "outputs": [
    {
     "ename": "KeyboardInterrupt",
     "evalue": "",
     "output_type": "error",
     "traceback": [
      "\u001b[0;31m---------------------------------------------------------------------------\u001b[0m",
      "\u001b[0;31mKeyboardInterrupt\u001b[0m                         Traceback (most recent call last)",
      "\u001b[0;32m<ipython-input-20-913d244bc68d>\u001b[0m in \u001b[0;36m<module>\u001b[0;34m\u001b[0m\n\u001b[1;32m     56\u001b[0m \u001b[0;34m\u001b[0m\u001b[0m\n\u001b[1;32m     57\u001b[0m     \u001b[0;31m#좌표는 동그라미의 왼쪽 위, 오른쪽 아래 점 (x1, y1, x2, y2)\u001b[0m\u001b[0;34m\u001b[0m\u001b[0;34m\u001b[0m\u001b[0;34m\u001b[0m\u001b[0m\n\u001b[0;32m---> 58\u001b[0;31m     \u001b[0mjoystick\u001b[0m\u001b[0;34m.\u001b[0m\u001b[0mdisp\u001b[0m\u001b[0;34m.\u001b[0m\u001b[0mimage\u001b[0m\u001b[0;34m(\u001b[0m\u001b[0mmy_image\u001b[0m\u001b[0;34m)\u001b[0m\u001b[0;34m\u001b[0m\u001b[0;34m\u001b[0m\u001b[0m\n\u001b[0m",
      "\u001b[0;32m/usr/local/lib/python3.9/dist-packages/adafruit_rgb_display/rgb.py\u001b[0m in \u001b[0;36mimage\u001b[0;34m(self, img, rotation, x, y)\u001b[0m\n\u001b[1;32m    195\u001b[0m                     \u001b[0mpixels\u001b[0m\u001b[0;34m[\u001b[0m\u001b[0;36m2\u001b[0m \u001b[0;34m*\u001b[0m \u001b[0;34m(\u001b[0m\u001b[0mj\u001b[0m \u001b[0;34m*\u001b[0m \u001b[0mimwidth\u001b[0m \u001b[0;34m+\u001b[0m \u001b[0mi\u001b[0m\u001b[0;34m)\u001b[0m\u001b[0;34m]\u001b[0m \u001b[0;34m=\u001b[0m \u001b[0mpix\u001b[0m \u001b[0;34m>>\u001b[0m \u001b[0;36m8\u001b[0m\u001b[0;34m\u001b[0m\u001b[0;34m\u001b[0m\u001b[0m\n\u001b[1;32m    196\u001b[0m                     \u001b[0mpixels\u001b[0m\u001b[0;34m[\u001b[0m\u001b[0;36m2\u001b[0m \u001b[0;34m*\u001b[0m \u001b[0;34m(\u001b[0m\u001b[0mj\u001b[0m \u001b[0;34m*\u001b[0m \u001b[0mimwidth\u001b[0m \u001b[0;34m+\u001b[0m \u001b[0mi\u001b[0m\u001b[0;34m)\u001b[0m \u001b[0;34m+\u001b[0m \u001b[0;36m1\u001b[0m\u001b[0;34m]\u001b[0m \u001b[0;34m=\u001b[0m \u001b[0mpix\u001b[0m \u001b[0;34m&\u001b[0m \u001b[0;36m0xFF\u001b[0m\u001b[0;34m\u001b[0m\u001b[0;34m\u001b[0m\u001b[0m\n\u001b[0;32m--> 197\u001b[0;31m         \u001b[0mself\u001b[0m\u001b[0;34m.\u001b[0m\u001b[0m_block\u001b[0m\u001b[0;34m(\u001b[0m\u001b[0mx\u001b[0m\u001b[0;34m,\u001b[0m \u001b[0my\u001b[0m\u001b[0;34m,\u001b[0m \u001b[0mx\u001b[0m \u001b[0;34m+\u001b[0m \u001b[0mimwidth\u001b[0m \u001b[0;34m-\u001b[0m \u001b[0;36m1\u001b[0m\u001b[0;34m,\u001b[0m \u001b[0my\u001b[0m \u001b[0;34m+\u001b[0m \u001b[0mimheight\u001b[0m \u001b[0;34m-\u001b[0m \u001b[0;36m1\u001b[0m\u001b[0;34m,\u001b[0m \u001b[0mpixels\u001b[0m\u001b[0;34m)\u001b[0m\u001b[0;34m\u001b[0m\u001b[0;34m\u001b[0m\u001b[0m\n\u001b[0m\u001b[1;32m    198\u001b[0m \u001b[0;34m\u001b[0m\u001b[0m\n\u001b[1;32m    199\u001b[0m     \u001b[0;31m# pylint: disable-msg=too-many-arguments\u001b[0m\u001b[0;34m\u001b[0m\u001b[0;34m\u001b[0m\u001b[0;34m\u001b[0m\u001b[0m\n",
      "\u001b[0;32m/usr/local/lib/python3.9/dist-packages/adafruit_rgb_display/rgb.py\u001b[0m in \u001b[0;36m_block\u001b[0;34m(self, x0, y0, x1, y1, data)\u001b[0m\n\u001b[1;32m    140\u001b[0m             \u001b[0msize\u001b[0m \u001b[0;34m=\u001b[0m \u001b[0mstruct\u001b[0m\u001b[0;34m.\u001b[0m\u001b[0mcalcsize\u001b[0m\u001b[0;34m(\u001b[0m\u001b[0mself\u001b[0m\u001b[0;34m.\u001b[0m\u001b[0m_DECODE_PIXEL\u001b[0m\u001b[0;34m)\u001b[0m\u001b[0;34m\u001b[0m\u001b[0;34m\u001b[0m\u001b[0m\n\u001b[1;32m    141\u001b[0m             \u001b[0;32mreturn\u001b[0m \u001b[0mself\u001b[0m\u001b[0;34m.\u001b[0m\u001b[0mread\u001b[0m\u001b[0;34m(\u001b[0m\u001b[0mself\u001b[0m\u001b[0;34m.\u001b[0m\u001b[0m_RAM_READ\u001b[0m\u001b[0;34m,\u001b[0m \u001b[0;34m(\u001b[0m\u001b[0mx1\u001b[0m \u001b[0;34m-\u001b[0m \u001b[0mx0\u001b[0m \u001b[0;34m+\u001b[0m \u001b[0;36m1\u001b[0m\u001b[0;34m)\u001b[0m \u001b[0;34m*\u001b[0m \u001b[0;34m(\u001b[0m\u001b[0my1\u001b[0m \u001b[0;34m-\u001b[0m \u001b[0my0\u001b[0m \u001b[0;34m+\u001b[0m \u001b[0;36m1\u001b[0m\u001b[0;34m)\u001b[0m \u001b[0;34m*\u001b[0m \u001b[0msize\u001b[0m\u001b[0;34m)\u001b[0m\u001b[0;34m\u001b[0m\u001b[0;34m\u001b[0m\u001b[0m\n\u001b[0;32m--> 142\u001b[0;31m         \u001b[0mself\u001b[0m\u001b[0;34m.\u001b[0m\u001b[0mwrite\u001b[0m\u001b[0;34m(\u001b[0m\u001b[0mself\u001b[0m\u001b[0;34m.\u001b[0m\u001b[0m_RAM_WRITE\u001b[0m\u001b[0;34m,\u001b[0m \u001b[0mdata\u001b[0m\u001b[0;34m)\u001b[0m\u001b[0;34m\u001b[0m\u001b[0;34m\u001b[0m\u001b[0m\n\u001b[0m\u001b[1;32m    143\u001b[0m         \u001b[0;32mreturn\u001b[0m \u001b[0;32mNone\u001b[0m\u001b[0;34m\u001b[0m\u001b[0;34m\u001b[0m\u001b[0m\n\u001b[1;32m    144\u001b[0m \u001b[0;34m\u001b[0m\u001b[0m\n",
      "\u001b[0;32m/usr/local/lib/python3.9/dist-packages/adafruit_rgb_display/rgb.py\u001b[0m in \u001b[0;36mwrite\u001b[0;34m(self, command, data)\u001b[0m\n\u001b[1;32m    292\u001b[0m             \u001b[0mself\u001b[0m\u001b[0;34m.\u001b[0m\u001b[0mdc_pin\u001b[0m\u001b[0;34m.\u001b[0m\u001b[0mvalue\u001b[0m \u001b[0;34m=\u001b[0m \u001b[0;36m1\u001b[0m\u001b[0;34m\u001b[0m\u001b[0;34m\u001b[0m\u001b[0m\n\u001b[1;32m    293\u001b[0m             \u001b[0;32mwith\u001b[0m \u001b[0mself\u001b[0m\u001b[0;34m.\u001b[0m\u001b[0mspi_device\u001b[0m \u001b[0;32mas\u001b[0m \u001b[0mspi\u001b[0m\u001b[0;34m:\u001b[0m\u001b[0;34m\u001b[0m\u001b[0;34m\u001b[0m\u001b[0m\n\u001b[0;32m--> 294\u001b[0;31m                 \u001b[0mspi\u001b[0m\u001b[0;34m.\u001b[0m\u001b[0mwrite\u001b[0m\u001b[0;34m(\u001b[0m\u001b[0mdata\u001b[0m\u001b[0;34m)\u001b[0m\u001b[0;34m\u001b[0m\u001b[0;34m\u001b[0m\u001b[0m\n\u001b[0m\u001b[1;32m    295\u001b[0m \u001b[0;34m\u001b[0m\u001b[0m\n\u001b[1;32m    296\u001b[0m     \u001b[0;32mdef\u001b[0m \u001b[0mread\u001b[0m\u001b[0;34m(\u001b[0m\u001b[0mself\u001b[0m\u001b[0;34m,\u001b[0m \u001b[0mcommand\u001b[0m\u001b[0;34m=\u001b[0m\u001b[0;32mNone\u001b[0m\u001b[0;34m,\u001b[0m \u001b[0mcount\u001b[0m\u001b[0;34m=\u001b[0m\u001b[0;36m0\u001b[0m\u001b[0;34m)\u001b[0m\u001b[0;34m:\u001b[0m\u001b[0;34m\u001b[0m\u001b[0;34m\u001b[0m\u001b[0m\n",
      "\u001b[0;32m/usr/local/lib/python3.9/dist-packages/busio.py\u001b[0m in \u001b[0;36mwrite\u001b[0;34m(self, buf, start, end)\u001b[0m\n\u001b[1;32m    384\u001b[0m     \u001b[0;32mdef\u001b[0m \u001b[0mwrite\u001b[0m\u001b[0;34m(\u001b[0m\u001b[0mself\u001b[0m\u001b[0;34m,\u001b[0m \u001b[0mbuf\u001b[0m\u001b[0;34m,\u001b[0m \u001b[0mstart\u001b[0m\u001b[0;34m=\u001b[0m\u001b[0;36m0\u001b[0m\u001b[0;34m,\u001b[0m \u001b[0mend\u001b[0m\u001b[0;34m=\u001b[0m\u001b[0;32mNone\u001b[0m\u001b[0;34m)\u001b[0m\u001b[0;34m:\u001b[0m\u001b[0;34m\u001b[0m\u001b[0;34m\u001b[0m\u001b[0m\n\u001b[1;32m    385\u001b[0m         \u001b[0;34m\"\"\"Write to the SPI device\"\"\"\u001b[0m\u001b[0;34m\u001b[0m\u001b[0;34m\u001b[0m\u001b[0m\n\u001b[0;32m--> 386\u001b[0;31m         \u001b[0;32mreturn\u001b[0m \u001b[0mself\u001b[0m\u001b[0;34m.\u001b[0m\u001b[0m_spi\u001b[0m\u001b[0;34m.\u001b[0m\u001b[0mwrite\u001b[0m\u001b[0;34m(\u001b[0m\u001b[0mbuf\u001b[0m\u001b[0;34m,\u001b[0m \u001b[0mstart\u001b[0m\u001b[0;34m,\u001b[0m \u001b[0mend\u001b[0m\u001b[0;34m)\u001b[0m\u001b[0;34m\u001b[0m\u001b[0;34m\u001b[0m\u001b[0m\n\u001b[0m\u001b[1;32m    387\u001b[0m \u001b[0;34m\u001b[0m\u001b[0m\n\u001b[1;32m    388\u001b[0m     \u001b[0;32mdef\u001b[0m \u001b[0mreadinto\u001b[0m\u001b[0;34m(\u001b[0m\u001b[0mself\u001b[0m\u001b[0;34m,\u001b[0m \u001b[0mbuf\u001b[0m\u001b[0;34m,\u001b[0m \u001b[0mstart\u001b[0m\u001b[0;34m=\u001b[0m\u001b[0;36m0\u001b[0m\u001b[0;34m,\u001b[0m \u001b[0mend\u001b[0m\u001b[0;34m=\u001b[0m\u001b[0;32mNone\u001b[0m\u001b[0;34m,\u001b[0m \u001b[0mwrite_value\u001b[0m\u001b[0;34m=\u001b[0m\u001b[0;36m0\u001b[0m\u001b[0;34m)\u001b[0m\u001b[0;34m:\u001b[0m\u001b[0;34m\u001b[0m\u001b[0;34m\u001b[0m\u001b[0m\n",
      "\u001b[0;32m/usr/local/lib/python3.9/dist-packages/adafruit_blinka/microcontroller/generic_linux/spi.py\u001b[0m in \u001b[0;36mwrite\u001b[0;34m(self, buf, start, end)\u001b[0m\n\u001b[1;32m     84\u001b[0m             \u001b[0mself\u001b[0m\u001b[0;34m.\u001b[0m\u001b[0m_spi\u001b[0m\u001b[0;34m.\u001b[0m\u001b[0mmode\u001b[0m \u001b[0;34m=\u001b[0m \u001b[0mself\u001b[0m\u001b[0;34m.\u001b[0m\u001b[0mmode\u001b[0m\u001b[0;34m\u001b[0m\u001b[0;34m\u001b[0m\u001b[0m\n\u001b[1;32m     85\u001b[0m             \u001b[0mself\u001b[0m\u001b[0;34m.\u001b[0m\u001b[0m_spi\u001b[0m\u001b[0;34m.\u001b[0m\u001b[0mbits_per_word\u001b[0m \u001b[0;34m=\u001b[0m \u001b[0mself\u001b[0m\u001b[0;34m.\u001b[0m\u001b[0mbits\u001b[0m\u001b[0;34m\u001b[0m\u001b[0;34m\u001b[0m\u001b[0m\n\u001b[0;32m---> 86\u001b[0;31m             \u001b[0mself\u001b[0m\u001b[0;34m.\u001b[0m\u001b[0m_spi\u001b[0m\u001b[0;34m.\u001b[0m\u001b[0mwritebytes\u001b[0m\u001b[0;34m(\u001b[0m\u001b[0mbuf\u001b[0m\u001b[0;34m[\u001b[0m\u001b[0mstart\u001b[0m\u001b[0;34m:\u001b[0m\u001b[0mend\u001b[0m\u001b[0;34m]\u001b[0m\u001b[0;34m)\u001b[0m\u001b[0;34m\u001b[0m\u001b[0;34m\u001b[0m\u001b[0m\n\u001b[0m\u001b[1;32m     87\u001b[0m             \u001b[0;31m# self._spi.close()\u001b[0m\u001b[0;34m\u001b[0m\u001b[0;34m\u001b[0m\u001b[0;34m\u001b[0m\u001b[0m\n\u001b[1;32m     88\u001b[0m         \u001b[0;32mexcept\u001b[0m \u001b[0mFileNotFoundError\u001b[0m\u001b[0;34m:\u001b[0m\u001b[0;34m\u001b[0m\u001b[0;34m\u001b[0m\u001b[0m\n",
      "\u001b[0;32m/usr/local/lib/python3.9/dist-packages/Adafruit_PureIO/spi.py\u001b[0m in \u001b[0;36mwritebytes\u001b[0;34m(self, data, max_speed_hz, bits_per_word, delay)\u001b[0m\n\u001b[1;32m    368\u001b[0m             )\n\u001b[1;32m    369\u001b[0m             \u001b[0;32mtry\u001b[0m\u001b[0;34m:\u001b[0m\u001b[0;34m\u001b[0m\u001b[0;34m\u001b[0m\u001b[0m\n\u001b[0;32m--> 370\u001b[0;31m                 \u001b[0mioctl\u001b[0m\u001b[0;34m(\u001b[0m\u001b[0mself\u001b[0m\u001b[0;34m.\u001b[0m\u001b[0mhandle\u001b[0m\u001b[0;34m,\u001b[0m \u001b[0mSPI\u001b[0m\u001b[0;34m.\u001b[0m\u001b[0m_IOC_MESSAGE\u001b[0m\u001b[0;34m,\u001b[0m \u001b[0mspi_ioc_transfer\u001b[0m\u001b[0;34m)\u001b[0m\u001b[0;34m\u001b[0m\u001b[0;34m\u001b[0m\u001b[0m\n\u001b[0m\u001b[1;32m    371\u001b[0m             \u001b[0;32mexcept\u001b[0m \u001b[0mTimeoutError\u001b[0m \u001b[0;32mas\u001b[0m \u001b[0me\u001b[0m\u001b[0;34m:\u001b[0m\u001b[0;34m\u001b[0m\u001b[0;34m\u001b[0m\u001b[0m\n\u001b[1;32m    372\u001b[0m                 raise Exception(\n",
      "\u001b[0;31mKeyboardInterrupt\u001b[0m: "
     ]
    }
   ],
   "source": [
    "my_cannon = Cannon((20, 220))\n",
    "# my_draw.rectangle((0, 0, joystick.width, joystick.height), fill = (255, 255, 255, 100))\n",
    "\n",
    "#rx = random.randrange(180, 240)\n",
    "#ry = random.randrange(180, 240)\n",
    "#enemy = Enemy((rx, ry))\n",
    "enemys_list = []\n",
    "\n",
    "bullet = None\n",
    "while True:\n",
    "    command = None\n",
    "    \n",
    "    if not joystick.button_U.value:     # up pressed\n",
    "        command = 'up'\n",
    "    if not joystick.button_D.value:     # down pressed\n",
    "        command = 'down'\n",
    "    if not joystick.button_L.value:     # left pressed\n",
    "        command = 'left'\n",
    "    if not joystick.button_R.value:     # right pressed\n",
    "        command = 'right'\n",
    "    if not joystick.button_A.value:     # A pressed\n",
    "        bullet = Bullet(my_cannon.c, my_cannon.angle, my_cannon.speed)\n",
    "    if not joystick.button_B.value:     # B pressed\n",
    "        rx = random.randrange(120, 240)\n",
    "        ry = random.randrange(120, 240)\n",
    "        enemy = Enemy((rx, ry))\n",
    "        enemys_list.append(enemy)\n",
    "\n",
    "    my_cannon.set(command)\n",
    "    if bullet != None:\n",
    "        bullet.collision_check(enemys_list)\n",
    "        bullet.move()\n",
    "#        print(bullet.c[0], bullet.c[1])\n",
    "                \n",
    "    my_draw.rectangle((0, 0, joystick.width, joystick.height), fill = (255, 255, 255, 100))\n",
    "    my_draw.ellipse(tuple(my_cannon.pos), outline = my_cannon.outline, fill = (0, 0, 0))\n",
    "\n",
    "    dx = int(my_cannon.speed * math.cos(math.radians(my_cannon.angle))/2)\n",
    "    dy = int(my_cannon.speed * math.sin(math.radians(my_cannon.angle))/2)\n",
    "    my_draw.line((my_cannon.c[0], my_cannon.c[1], my_cannon.c[0]+dx, my_cannon.c[1]-dy), fill=(0,0,230), width=2)\n",
    "    \n",
    "    for enemy in enemys_list:\n",
    "        if enemy.state == 'alive':          # choi++\n",
    "            my_draw.ellipse(tuple(enemy.position), outline = enemy.outline, fill = (255, 0, 0))\n",
    "        elif enemy.state == 'die':          # choi++\n",
    "            enemys_list.remove(enemy)       # choi++\n",
    "\n",
    "    #   for bullet in bullets:\n",
    "    if bullet != None:\n",
    "        if (bullet.state == 'move') and (not bullet.ground()):      # choi-+\n",
    "            my_draw.ellipse(tuple(bullet.p), outline = bullet.outline, fill = (0, 0, 255))\n",
    "        else:                               # choi++\n",
    "        #    bullets.remove(bullet)          # choi++\n",
    "            bullet = None\n",
    "    \n",
    "\n",
    "    #좌표는 동그라미의 왼쪽 위, 오른쪽 아래 점 (x1, y1, x2, y2)\n",
    "    joystick.disp.image(my_image)"
   ]
  },
  {
   "cell_type": "markdown",
   "metadata": {},
   "source": [
    "총알을 맞추면 적들이 잘 사라지나요?  \n",
    "아직 미흡한 점이 무엇인지 생각해보고 수정해봅시다!😀\n",
    "- Enemy 역시 그냥 눈으로만 안보이는 척 하는 것일 뿐, list 내에 살아 있음. -> 메모리 관리 필요\n",
    "- Enemy가 총알에 맞았을 시, 한 방에 죽는 것이 아닌 체력이 있다면?"
   ]
  }
 ],
 "metadata": {
  "kernelspec": {
   "display_name": "Python 3",
   "language": "python",
   "name": "python3"
  },
  "orig_nbformat": 4,
  "vscode": {
   "interpreter": {
    "hash": "e7370f93d1d0cde622a1f8e1c04877d8463912d04d973331ad4851f04de6915a"
   }
  }
 },
 "nbformat": 4,
 "nbformat_minor": 2
}
