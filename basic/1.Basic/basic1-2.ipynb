{
 "cells": [
  {
   "cell_type": "markdown",
   "metadata": {},
   "source": [
    "## Display & Joystick의 객체화 및 캐릭터 조종"
   ]
  },
  {
   "cell_type": "markdown",
   "metadata": {},
   "source": [
    "필요한 library import"
   ]
  },
  {
   "cell_type": "code",
   "execution_count": 2,
   "metadata": {},
   "outputs": [
    {
     "ename": "TclError",
     "evalue": "no display name and no $DISPLAY environment variable",
     "output_type": "error",
     "traceback": [
      "\u001b[0;31m---------------------------------------------------------------------------\u001b[0m",
      "\u001b[0;31mTclError\u001b[0m                                  Traceback (most recent call last)",
      "\u001b[0;32m<ipython-input-2-0fd21bb362e6>\u001b[0m in \u001b[0;36m<module>\u001b[0;34m\u001b[0m\n\u001b[1;32m      2\u001b[0m \u001b[0;32mfrom\u001b[0m \u001b[0mtkinter\u001b[0m \u001b[0;32mimport\u001b[0m \u001b[0;34m*\u001b[0m\u001b[0;34m\u001b[0m\u001b[0;34m\u001b[0m\u001b[0m\n\u001b[1;32m      3\u001b[0m \u001b[0;32mfrom\u001b[0m \u001b[0mPIL\u001b[0m \u001b[0;32mimport\u001b[0m \u001b[0mImageTk\u001b[0m\u001b[0;34m\u001b[0m\u001b[0;34m\u001b[0m\u001b[0m\n\u001b[0;32m----> 4\u001b[0;31m \u001b[0mwin\u001b[0m \u001b[0;34m=\u001b[0m \u001b[0mTk\u001b[0m\u001b[0;34m(\u001b[0m\u001b[0;34m)\u001b[0m\u001b[0;34m\u001b[0m\u001b[0;34m\u001b[0m\u001b[0m\n\u001b[0m\u001b[1;32m      5\u001b[0m \u001b[0mwin\u001b[0m\u001b[0;34m.\u001b[0m\u001b[0mtitle\u001b[0m\u001b[0;34m(\u001b[0m\u001b[0;34m\"LCD View\"\u001b[0m\u001b[0;34m)\u001b[0m\u001b[0;34m\u001b[0m\u001b[0;34m\u001b[0m\u001b[0m\n\u001b[1;32m      6\u001b[0m \u001b[0mcan\u001b[0m \u001b[0;34m=\u001b[0m \u001b[0mCanvas\u001b[0m\u001b[0;34m(\u001b[0m\u001b[0mwin\u001b[0m\u001b[0;34m,\u001b[0m \u001b[0mwidth\u001b[0m\u001b[0;34m=\u001b[0m\u001b[0;36m240\u001b[0m\u001b[0;34m,\u001b[0m \u001b[0mheight\u001b[0m\u001b[0;34m=\u001b[0m\u001b[0;36m240\u001b[0m\u001b[0;34m)\u001b[0m\u001b[0;34m\u001b[0m\u001b[0;34m\u001b[0m\u001b[0m\n",
      "\u001b[0;32m/usr/lib/python3.9/tkinter/__init__.py\u001b[0m in \u001b[0;36m__init__\u001b[0;34m(self, screenName, baseName, className, useTk, sync, use)\u001b[0m\n\u001b[1;32m   2268\u001b[0m                 \u001b[0mbaseName\u001b[0m \u001b[0;34m=\u001b[0m \u001b[0mbaseName\u001b[0m \u001b[0;34m+\u001b[0m \u001b[0mext\u001b[0m\u001b[0;34m\u001b[0m\u001b[0;34m\u001b[0m\u001b[0m\n\u001b[1;32m   2269\u001b[0m         \u001b[0minteractive\u001b[0m \u001b[0;34m=\u001b[0m \u001b[0;32mFalse\u001b[0m\u001b[0;34m\u001b[0m\u001b[0;34m\u001b[0m\u001b[0m\n\u001b[0;32m-> 2270\u001b[0;31m         \u001b[0mself\u001b[0m\u001b[0;34m.\u001b[0m\u001b[0mtk\u001b[0m \u001b[0;34m=\u001b[0m \u001b[0m_tkinter\u001b[0m\u001b[0;34m.\u001b[0m\u001b[0mcreate\u001b[0m\u001b[0;34m(\u001b[0m\u001b[0mscreenName\u001b[0m\u001b[0;34m,\u001b[0m \u001b[0mbaseName\u001b[0m\u001b[0;34m,\u001b[0m \u001b[0mclassName\u001b[0m\u001b[0;34m,\u001b[0m \u001b[0minteractive\u001b[0m\u001b[0;34m,\u001b[0m \u001b[0mwantobjects\u001b[0m\u001b[0;34m,\u001b[0m \u001b[0museTk\u001b[0m\u001b[0;34m,\u001b[0m \u001b[0msync\u001b[0m\u001b[0;34m,\u001b[0m \u001b[0muse\u001b[0m\u001b[0;34m)\u001b[0m\u001b[0;34m\u001b[0m\u001b[0;34m\u001b[0m\u001b[0m\n\u001b[0m\u001b[1;32m   2271\u001b[0m         \u001b[0;32mif\u001b[0m \u001b[0museTk\u001b[0m\u001b[0;34m:\u001b[0m\u001b[0;34m\u001b[0m\u001b[0;34m\u001b[0m\u001b[0m\n\u001b[1;32m   2272\u001b[0m             \u001b[0mself\u001b[0m\u001b[0;34m.\u001b[0m\u001b[0m_loadtk\u001b[0m\u001b[0;34m(\u001b[0m\u001b[0;34m)\u001b[0m\u001b[0;34m\u001b[0m\u001b[0;34m\u001b[0m\u001b[0m\n",
      "\u001b[0;31mTclError\u001b[0m: no display name and no $DISPLAY environment variable"
     ]
    }
   ],
   "source": [
    "# for LCD View on PC\n",
    "from tkinter import *\n",
    "from PIL import ImageTk\n",
    "win = Tk()\n",
    "win.title(\"LCD View\")\n",
    "can = Canvas(win, width=240, height=240)\n",
    "can.pack()\n",
    "\n",
    "import time\n",
    "import random\n",
    "from colorsys import hsv_to_rgb\n",
    "import board\n",
    "from digitalio import DigitalInOut, Direction\n",
    "from PIL import Image, ImageDraw, ImageFont\n",
    "from adafruit_rgb_display import st7789\n"
   ]
  },
  {
   "cell_type": "markdown",
   "metadata": {},
   "source": [
    "Joystick이라는 클래스를 만들어, 간단한 모듈화 진행"
   ]
  },
  {
   "cell_type": "code",
   "execution_count": 6,
   "metadata": {},
   "outputs": [],
   "source": [
    "class Joystick:\n",
    "    def __init__(self):\n",
    "        self.cs_pin = DigitalInOut(board.CE0)\n",
    "        self.dc_pin = DigitalInOut(board.D25)\n",
    "        self.reset_pin = DigitalInOut(board.D24)\n",
    "        self.BAUDRATE = 24000000\n",
    "\n",
    "        self.spi = board.SPI()\n",
    "        self.disp = st7789.ST7789(\n",
    "                    self.spi,\n",
    "                    height=240,\n",
    "                    y_offset=80,\n",
    "                    rotation=180,\n",
    "                    cs=self.cs_pin,\n",
    "                    dc=self.dc_pin,\n",
    "                    rst=self.reset_pin,\n",
    "                    baudrate=self.BAUDRATE,\n",
    "                    )\n",
    "\n",
    "        # Input pins:\n",
    "        self.button_A = DigitalInOut(board.D5)\n",
    "        self.button_A.direction = Direction.INPUT\n",
    "\n",
    "        self.button_B = DigitalInOut(board.D6)\n",
    "        self.button_B.direction = Direction.INPUT\n",
    "\n",
    "        self.button_L = DigitalInOut(board.D27)\n",
    "        self.button_L.direction = Direction.INPUT\n",
    "\n",
    "        self.button_R = DigitalInOut(board.D23)\n",
    "        self.button_R.direction = Direction.INPUT\n",
    "\n",
    "        self.button_U = DigitalInOut(board.D17)\n",
    "        self.button_U.direction = Direction.INPUT\n",
    "\n",
    "        self.button_D = DigitalInOut(board.D22)\n",
    "        self.button_D.direction = Direction.INPUT\n",
    "\n",
    "        self.button_C = DigitalInOut(board.D4)\n",
    "        self.button_C.direction = Direction.INPUT\n",
    "\n",
    "        # Turn on the Backlight\n",
    "        self.backlight = DigitalInOut(board.D26)\n",
    "        self.backlight.switch_to_output()\n",
    "        self.backlight.value = True\n",
    "\n",
    "        # Create blank image for drawing.\n",
    "        # Make sure to create image with mode 'RGB' for color.\n",
    "        self.width = self.disp.width\n",
    "        self.height = self.disp.height"
   ]
  },
  {
   "cell_type": "markdown",
   "metadata": {},
   "source": [
    "joystick 객체 선언"
   ]
  },
  {
   "cell_type": "code",
   "execution_count": 7,
   "metadata": {},
   "outputs": [],
   "source": [
    "joystick = Joystick()"
   ]
  },
  {
   "cell_type": "markdown",
   "metadata": {},
   "source": [
    "## Display와 친해지기"
   ]
  },
  {
   "cell_type": "markdown",
   "metadata": {},
   "source": [
    "display 초기화\n",
    "- PIL에서 지원하는 Image를 사용, joystick의 width, height에 맞는 Image 생성 (하나의 도화지를 만들었다고 생각)"
   ]
  },
  {
   "cell_type": "code",
   "execution_count": 8,
   "metadata": {},
   "outputs": [],
   "source": [
    "my_image = Image.new(\"RGB\", (joystick.width, joystick.height))"
   ]
  },
  {
   "cell_type": "markdown",
   "metadata": {},
   "source": [
    "만들어진 도화지에 그림을 그리기 위한 도구 선언\n",
    "- ImageDraw의 Draw함수를 통해 우리가 선언했던 my_image에 그림을 그리는 도구인 my_draw를 선언"
   ]
  },
  {
   "cell_type": "code",
   "execution_count": 9,
   "metadata": {},
   "outputs": [],
   "source": [
    "my_draw = ImageDraw.Draw(my_image)"
   ]
  },
  {
   "cell_type": "markdown",
   "metadata": {},
   "source": [
    "선언된 my_draw를 이용해 rectangle을 도화지에 그려보기\n",
    "- rectangle((사각형의 왼쪽 위 꼭짓점 위치x1 y1, 사각형의 오른쪽 아래 꼭짓점 위치x2 y2)\n",
    ", fill = (R, G, B, A))\n",
    "- A는 알파 값으로 0~ 100의 값을 갖고, 투명하게 만들건지 아닌지를 결정함 (0 -> 투명 ~ 100 -> 불투명)"
   ]
  },
  {
   "cell_type": "code",
   "execution_count": 10,
   "metadata": {},
   "outputs": [],
   "source": [
    "my_draw.rectangle((0, 0, joystick.width, joystick.height), fill=(255, 0, 0, 100))"
   ]
  },
  {
   "cell_type": "markdown",
   "metadata": {},
   "source": [
    "빨간색 rectangle을 (0, 0)에서부터 width, height를 꽉 차도록 그린 도화지를 display에 띄우기\n",
    "- 꼭 fill을 (255, 0, 0, 100) 으로 하지 않아도 되고, 원하는 색으로 해보세요!"
   ]
  },
  {
   "cell_type": "code",
   "execution_count": 12,
   "metadata": {},
   "outputs": [],
   "source": [
    "joystick.disp.image(my_image)\n",
    "\n",
    "# for LCD View on PC\n",
    "tk_img = ImageTk.PhotoImage(my_image, master=win)\n",
    "can.create_image(0,0, anchor='nw', image=tk_img)\n",
    "win.update()\n",
    "win.mainloop()"
   ]
  },
  {
   "cell_type": "markdown",
   "metadata": {},
   "source": [
    "캐릭터를 만들기 전, 하얀색 배경을 만들고 화면에 띄워보고, 캐릭터가 될 동그라미 그려보기"
   ]
  },
  {
   "cell_type": "code",
   "execution_count": 14,
   "metadata": {},
   "outputs": [
    {
     "ename": "TclError",
     "evalue": "can't invoke \"image\" command: application has been destroyed",
     "output_type": "error",
     "traceback": [
      "\u001b[0;31m---------------------------------------------------------------------------\u001b[0m",
      "\u001b[0;31mTclError\u001b[0m                                  Traceback (most recent call last)",
      "\u001b[0;32m<ipython-input-14-86b8e56e1109>\u001b[0m in \u001b[0;36m<module>\u001b[0;34m\u001b[0m\n\u001b[1;32m      5\u001b[0m \u001b[0;34m\u001b[0m\u001b[0m\n\u001b[1;32m      6\u001b[0m \u001b[0;31m# for LCD View on PC\u001b[0m\u001b[0;34m\u001b[0m\u001b[0;34m\u001b[0m\u001b[0;34m\u001b[0m\u001b[0m\n\u001b[0;32m----> 7\u001b[0;31m \u001b[0mtk_img\u001b[0m \u001b[0;34m=\u001b[0m \u001b[0mImageTk\u001b[0m\u001b[0;34m.\u001b[0m\u001b[0mPhotoImage\u001b[0m\u001b[0;34m(\u001b[0m\u001b[0mmy_image\u001b[0m\u001b[0;34m,\u001b[0m \u001b[0mmaster\u001b[0m\u001b[0;34m=\u001b[0m\u001b[0mwin\u001b[0m\u001b[0;34m)\u001b[0m\u001b[0;34m\u001b[0m\u001b[0;34m\u001b[0m\u001b[0m\n\u001b[0m\u001b[1;32m      8\u001b[0m \u001b[0mcan\u001b[0m\u001b[0;34m.\u001b[0m\u001b[0mcreate_image\u001b[0m\u001b[0;34m(\u001b[0m\u001b[0;36m0\u001b[0m\u001b[0;34m,\u001b[0m\u001b[0;36m0\u001b[0m\u001b[0;34m,\u001b[0m \u001b[0manchor\u001b[0m\u001b[0;34m=\u001b[0m\u001b[0;34m'nw'\u001b[0m\u001b[0;34m,\u001b[0m \u001b[0mimage\u001b[0m\u001b[0;34m=\u001b[0m\u001b[0mtk_img\u001b[0m\u001b[0;34m)\u001b[0m\u001b[0;34m\u001b[0m\u001b[0;34m\u001b[0m\u001b[0m\n\u001b[1;32m      9\u001b[0m \u001b[0mwin\u001b[0m\u001b[0;34m.\u001b[0m\u001b[0mupdate\u001b[0m\u001b[0;34m(\u001b[0m\u001b[0;34m)\u001b[0m\u001b[0;34m\u001b[0m\u001b[0;34m\u001b[0m\u001b[0m\n",
      "\u001b[0;32m/usr/lib/python3/dist-packages/PIL/ImageTk.py\u001b[0m in \u001b[0;36m__init__\u001b[0;34m(self, image, size, **kw)\u001b[0m\n\u001b[1;32m    110\u001b[0m         \u001b[0mself\u001b[0m\u001b[0;34m.\u001b[0m\u001b[0m__mode\u001b[0m \u001b[0;34m=\u001b[0m \u001b[0mmode\u001b[0m\u001b[0;34m\u001b[0m\u001b[0;34m\u001b[0m\u001b[0m\n\u001b[1;32m    111\u001b[0m         \u001b[0mself\u001b[0m\u001b[0;34m.\u001b[0m\u001b[0m__size\u001b[0m \u001b[0;34m=\u001b[0m \u001b[0msize\u001b[0m\u001b[0;34m\u001b[0m\u001b[0;34m\u001b[0m\u001b[0m\n\u001b[0;32m--> 112\u001b[0;31m         \u001b[0mself\u001b[0m\u001b[0;34m.\u001b[0m\u001b[0m__photo\u001b[0m \u001b[0;34m=\u001b[0m \u001b[0mtkinter\u001b[0m\u001b[0;34m.\u001b[0m\u001b[0mPhotoImage\u001b[0m\u001b[0;34m(\u001b[0m\u001b[0;34m**\u001b[0m\u001b[0mkw\u001b[0m\u001b[0;34m)\u001b[0m\u001b[0;34m\u001b[0m\u001b[0;34m\u001b[0m\u001b[0m\n\u001b[0m\u001b[1;32m    113\u001b[0m         \u001b[0mself\u001b[0m\u001b[0;34m.\u001b[0m\u001b[0mtk\u001b[0m \u001b[0;34m=\u001b[0m \u001b[0mself\u001b[0m\u001b[0;34m.\u001b[0m\u001b[0m__photo\u001b[0m\u001b[0;34m.\u001b[0m\u001b[0mtk\u001b[0m\u001b[0;34m\u001b[0m\u001b[0;34m\u001b[0m\u001b[0m\n\u001b[1;32m    114\u001b[0m         \u001b[0;32mif\u001b[0m \u001b[0mimage\u001b[0m\u001b[0;34m:\u001b[0m\u001b[0;34m\u001b[0m\u001b[0;34m\u001b[0m\u001b[0m\n",
      "\u001b[0;32m/usr/lib/python3.9/tkinter/__init__.py\u001b[0m in \u001b[0;36m__init__\u001b[0;34m(self, name, cnf, master, **kw)\u001b[0m\n\u001b[1;32m   4062\u001b[0m         \u001b[0mValid\u001b[0m \u001b[0mresource\u001b[0m \u001b[0mnames\u001b[0m\u001b[0;34m:\u001b[0m \u001b[0mdata\u001b[0m\u001b[0;34m,\u001b[0m \u001b[0mformat\u001b[0m\u001b[0;34m,\u001b[0m \u001b[0mfile\u001b[0m\u001b[0;34m,\u001b[0m \u001b[0mgamma\u001b[0m\u001b[0;34m,\u001b[0m \u001b[0mheight\u001b[0m\u001b[0;34m,\u001b[0m \u001b[0mpalette\u001b[0m\u001b[0;34m,\u001b[0m\u001b[0;34m\u001b[0m\u001b[0;34m\u001b[0m\u001b[0m\n\u001b[1;32m   4063\u001b[0m         width.\"\"\"\n\u001b[0;32m-> 4064\u001b[0;31m         \u001b[0mImage\u001b[0m\u001b[0;34m.\u001b[0m\u001b[0m__init__\u001b[0m\u001b[0;34m(\u001b[0m\u001b[0mself\u001b[0m\u001b[0;34m,\u001b[0m \u001b[0;34m'photo'\u001b[0m\u001b[0;34m,\u001b[0m \u001b[0mname\u001b[0m\u001b[0;34m,\u001b[0m \u001b[0mcnf\u001b[0m\u001b[0;34m,\u001b[0m \u001b[0mmaster\u001b[0m\u001b[0;34m,\u001b[0m \u001b[0;34m**\u001b[0m\u001b[0mkw\u001b[0m\u001b[0;34m)\u001b[0m\u001b[0;34m\u001b[0m\u001b[0;34m\u001b[0m\u001b[0m\n\u001b[0m\u001b[1;32m   4065\u001b[0m \u001b[0;34m\u001b[0m\u001b[0m\n\u001b[1;32m   4066\u001b[0m     \u001b[0;32mdef\u001b[0m \u001b[0mblank\u001b[0m\u001b[0;34m(\u001b[0m\u001b[0mself\u001b[0m\u001b[0;34m)\u001b[0m\u001b[0;34m:\u001b[0m\u001b[0;34m\u001b[0m\u001b[0;34m\u001b[0m\u001b[0m\n",
      "\u001b[0;32m/usr/lib/python3.9/tkinter/__init__.py\u001b[0m in \u001b[0;36m__init__\u001b[0;34m(self, imgtype, name, cnf, master, **kw)\u001b[0m\n\u001b[1;32m   4007\u001b[0m                 \u001b[0mv\u001b[0m \u001b[0;34m=\u001b[0m \u001b[0mself\u001b[0m\u001b[0;34m.\u001b[0m\u001b[0m_register\u001b[0m\u001b[0;34m(\u001b[0m\u001b[0mv\u001b[0m\u001b[0;34m)\u001b[0m\u001b[0;34m\u001b[0m\u001b[0;34m\u001b[0m\u001b[0m\n\u001b[1;32m   4008\u001b[0m             \u001b[0moptions\u001b[0m \u001b[0;34m=\u001b[0m \u001b[0moptions\u001b[0m \u001b[0;34m+\u001b[0m \u001b[0;34m(\u001b[0m\u001b[0;34m'-'\u001b[0m\u001b[0;34m+\u001b[0m\u001b[0mk\u001b[0m\u001b[0;34m,\u001b[0m \u001b[0mv\u001b[0m\u001b[0;34m)\u001b[0m\u001b[0;34m\u001b[0m\u001b[0;34m\u001b[0m\u001b[0m\n\u001b[0;32m-> 4009\u001b[0;31m         \u001b[0mself\u001b[0m\u001b[0;34m.\u001b[0m\u001b[0mtk\u001b[0m\u001b[0;34m.\u001b[0m\u001b[0mcall\u001b[0m\u001b[0;34m(\u001b[0m\u001b[0;34m(\u001b[0m\u001b[0;34m'image'\u001b[0m\u001b[0;34m,\u001b[0m \u001b[0;34m'create'\u001b[0m\u001b[0;34m,\u001b[0m \u001b[0mimgtype\u001b[0m\u001b[0;34m,\u001b[0m \u001b[0mname\u001b[0m\u001b[0;34m,\u001b[0m\u001b[0;34m)\u001b[0m \u001b[0;34m+\u001b[0m \u001b[0moptions\u001b[0m\u001b[0;34m)\u001b[0m\u001b[0;34m\u001b[0m\u001b[0;34m\u001b[0m\u001b[0m\n\u001b[0m\u001b[1;32m   4010\u001b[0m         \u001b[0mself\u001b[0m\u001b[0;34m.\u001b[0m\u001b[0mname\u001b[0m \u001b[0;34m=\u001b[0m \u001b[0mname\u001b[0m\u001b[0;34m\u001b[0m\u001b[0;34m\u001b[0m\u001b[0m\n\u001b[1;32m   4011\u001b[0m \u001b[0;34m\u001b[0m\u001b[0m\n",
      "\u001b[0;31mTclError\u001b[0m: can't invoke \"image\" command: application has been destroyed"
     ]
    }
   ],
   "source": [
    "my_draw.rectangle((0, 0, joystick.width, joystick.height), fill = (255, 255, 255, 100))\n",
    "my_draw.ellipse((100, 50, 140, 90), outline = \"#FFFFFF\", fill = (0, 0, 0))\n",
    "#좌표는 동그라미의 왼쪽 위, 오른쪽 아래 점 (x1, y1, x2, y2)\n",
    "joystick.disp.image(my_image)\n",
    "\n",
    "# for LCD View on PC\n",
    "tk_img = ImageTk.PhotoImage(my_image, master=win)\n",
    "can.create_image(0,0, anchor='nw', image=tk_img)\n",
    "win.update()\n",
    "win.mainloop()"
   ]
  },
  {
   "cell_type": "markdown",
   "metadata": {},
   "source": [
    "## 캐릭터 만들기"
   ]
  },
  {
   "cell_type": "markdown",
   "metadata": {},
   "source": [
    "간단한 모양(네모, 동그라미, ..)을 가지고 조종할 수 있는 캐릭터를 만들어보기\n",
    "- 기능 -> 움직이기, 움직일때는 빨간 테두리를, 가만히 있을 때는 하얀 테두리를 가지게 할 것"
   ]
  },
  {
   "cell_type": "code",
   "execution_count": 9,
   "metadata": {},
   "outputs": [],
   "source": [
    "import numpy as np\n",
    "class Character:\n",
    "    def __init__(self, width, height):\n",
    "        self.appearance = 'circle'\n",
    "        self.state = None\n",
    "        self.position = np.array([width/2 - 20, height/2 - 20, width/2 + 20, height/2 + 20])\n",
    "        self.outline = \"#FFFFFF\"\n",
    "\n",
    "    def move(self, command = None):\n",
    "        if command == None:\n",
    "            self.state = None\n",
    "            self.outline = \"#FFFFFF\" #검정색상 코드!\n",
    "        \n",
    "        else:\n",
    "            self.state = 'move'\n",
    "            self.outline = \"#FF0000\" #빨강색상 코드!\n",
    "\n",
    "            if command == 'up_pressed':\n",
    "                self.position[1] -= 5\n",
    "                self.position[3] -= 5\n",
    "\n",
    "            elif command == 'down_pressed':\n",
    "                self.position[1] += 5\n",
    "                self.position[3] += 5\n",
    "\n",
    "            elif command == 'left_pressed':\n",
    "                self.position[0] -= 5\n",
    "                self.position[2] -= 5\n",
    "                \n",
    "            elif command == 'right_pressed':\n",
    "                self.position[0] += 5\n",
    "                self.position[2] += 5"
   ]
  },
  {
   "cell_type": "code",
   "execution_count": null,
   "metadata": {},
   "outputs": [],
   "source": [
    "my_circle = Character(joystick.width, joystick.height)\n",
    "my_draw.rectangle((0, 0, joystick.width, joystick.height), fill = (255, 255, 255, 100))\n",
    "while True:\n",
    "    command = None\n",
    "    if not joystick.button_U.value:  # up pressed\n",
    "        command = 'up_pressed'\n",
    "\n",
    "    elif not joystick.button_D.value:  # down pressed\n",
    "        command = 'down_pressed'\n",
    "\n",
    "    elif not joystick.button_L.value:  # left pressed\n",
    "        command = 'left_pressed'\n",
    "\n",
    "    elif not joystick.button_R.value:  # right pressed\n",
    "        command = 'right_pressed'\n",
    "        \n",
    "    else:\n",
    "        command = None\n",
    "\n",
    "    my_circle.move(command)\n",
    "\n",
    "    my_draw.ellipse(tuple(my_circle.position), outline = my_circle.outline, fill = (0, 0, 0))\n",
    "#좌표는 동그라미의 왼쪽 위, 오른쪽 아래 점 (x1, y1, x2, y2)\n",
    "    joystick.disp.image(my_image)\n",
    "\n",
    "    # for LCD View on PC\n",
    "    tk_img = ImageTk.PhotoImage(my_image, master=win)\n",
    "    canvas.create_image(0,0, anchor='nw', image=tk_img)\n",
    "    win.update()\n",
    "\n",
    "win.mainloop()"
   ]
  },
  {
   "cell_type": "markdown",
   "metadata": {},
   "source": [
    "실행시켜보면 문제점이 무엇인가요?\n",
    "- 캐릭터가 움직이면서 잔상같은게 남습니다. 이유가 무엇인가요?\n",
    "- 이전에 그려졌던 circle이 사라지지 않음  \n",
    "-> 해결 방법 : 하얀색 도화지를 새로 깐다, 이전위치에 배경색과 똑같은 동그라미를 다시 그린다, 등등 .."
   ]
  },
  {
   "cell_type": "code",
   "execution_count": null,
   "metadata": {},
   "outputs": [],
   "source": [
    "# 잔상이 남지 않는 코드\n",
    "my_circle = Character(joystick.width, joystick.height)\n",
    "my_draw.rectangle((0, 0, joystick.width, joystick.height), fill = (255, 255, 255, 100))\n",
    "while True:\n",
    "    command = None\n",
    "    if not joystick.button_U.value:  # up pressed\n",
    "        command = 'up_pressed'\n",
    "\n",
    "    elif not joystick.button_D.value:  # down pressed\n",
    "        command = 'down_pressed'\n",
    "\n",
    "    elif not joystick.button_L.value:  # left pressed\n",
    "        command = 'left_pressed'\n",
    "\n",
    "    elif not joystick.button_R.value:  # right pressed\n",
    "        command = 'right_pressed'\n",
    "        \n",
    "    else:\n",
    "        command = None\n",
    "\n",
    "    my_circle.move(command)\n",
    "\n",
    "    #그리는 순서가 중요합니다. 배경을 먼저 깔고 위에 그림을 그리고 싶었는데 그림을 그려놓고 배경으로 덮는 결과로 될 수 있습니다.\n",
    "    my_draw.rectangle((0, 0, joystick.width, joystick.height), fill = (255, 255, 255, 100))\n",
    "    my_draw.ellipse(tuple(my_circle.position), outline = my_circle.outline, fill = (0, 0, 0))\n",
    "#좌표는 동그라미의 왼쪽 위, 오른쪽 아래 점 (x1, y1, x2, y2)\n",
    "    joystick.disp.image(my_image)\n",
    "\n",
    "    # for LCD View on PC\n",
    "    tk_img = ImageTk.PhotoImage(my_image, master=win)\n",
    "    canvas.create_image(0,0, anchor='nw', image=tk_img)\n",
    "    win.update()\n",
    "\n",
    "win.mainloop()"
   ]
  },
  {
   "cell_type": "markdown",
   "metadata": {},
   "source": [
    "또다른 문제는 무엇인가요?\n",
    "- 캐릭터가 대각선으로 움직이지 않습니다  \n",
    "-> 문제가 일어나는 곳을 파악하고, 스스로 해결해보세요😃"
   ]
  },
  {
   "cell_type": "markdown",
   "metadata": {},
   "source": [
    "jupyter notebook을 사용해서 돌려도 보고, .py 파일로 만들어 실행시켜보세요!"
   ]
  }
 ],
 "metadata": {
  "kernelspec": {
   "display_name": "Python 3",
   "language": "python",
   "name": "python3"
  },
  "language_info": {
   "codemirror_mode": {
    "name": "ipython",
    "version": 3
   },
   "file_extension": ".py",
   "mimetype": "text/x-python",
   "name": "python",
   "nbconvert_exporter": "python",
   "pygments_lexer": "ipython3",
   "version": "3.9.2"
  },
  "vscode": {
   "interpreter": {
    "hash": "e7370f93d1d0cde622a1f8e1c04877d8463912d04d973331ad4851f04de6915a"
   }
  }
 },
 "nbformat": 4,
 "nbformat_minor": 2
}
